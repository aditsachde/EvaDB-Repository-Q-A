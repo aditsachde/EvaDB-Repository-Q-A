{
  "nbformat": 4,
  "nbformat_minor": 0,
  "metadata": {
    "colab": {
      "provenance": []
    },
    "kernelspec": {
      "name": "python3",
      "display_name": "Python 3"
    },
    "language_info": {
      "name": "python"
    }
  },
  "cells": [
    {
      "cell_type": "code",
      "execution_count": 1,
      "metadata": {
        "id": "EvdzemAsAgU8"
      },
      "outputs": [],
      "source": [
        "%pip install --quiet \"evadb[document,notebook]\"\n",
        "import evadb\n",
        "import subprocess\n",
        "import tempfile\n",
        "import os\n",
        "import shutil\n",
        "import mimetypes\n",
        "import nbformat\n",
        "import csv"
      ]
    },
    {
      "cell_type": "code",
      "source": [
        "cursor = evadb.connect().cursor()"
      ],
      "metadata": {
        "id": "KRbLbSIOFPLx"
      },
      "execution_count": 2,
      "outputs": []
    },
    {
      "cell_type": "code",
      "source": [
        "os.environ['OPENAI_KEY'] = 'sk-replace-me'"
      ],
      "metadata": {
        "id": "GgabF3h9h_-c"
      },
      "execution_count": 10,
      "outputs": []
    },
    {
      "cell_type": "code",
      "source": [
        "def load_repository(cursor, repo_url):\n",
        "  temp_dir = tempfile.mkdtemp()\n",
        "  target_directory = \"repo\"\n",
        "  git_clone_command = [\"git\", \"clone\", repo_url, target_directory]\n",
        "  subprocess.check_call(git_clone_command, cwd=temp_dir)\n",
        "  repo_path = os.path.join(temp_dir, target_directory)\n",
        "\n",
        "  id = 1\n",
        "  rows = [['id', 'name', 'text']]\n",
        "\n",
        "  for root, dirs, files in os.walk(repo_path):\n",
        "      dirs[:] = [d for d in dirs if not d.startswith('.')]\n",
        "      files = [f for f in files if not f.startswith('.')]\n",
        "\n",
        "      for file in files:\n",
        "        if not any(d.startswith('.') for d in root.split(os.path.sep)):\n",
        "          file_path = os.path.join(root, file)\n",
        "          mime_type, _ = mimetypes.guess_type(file_path)\n",
        "          rel_path = os.path.relpath(os.path.join(root, file), repo_path)\n",
        "          is_text_file = mime_type and mime_type.startswith('text/')\n",
        "          if is_text_file:\n",
        "            with open(file_path, 'r', encoding='utf-8') as file:\n",
        "              file_content = file.read()\n",
        "            rows.append([id, rel_path, file_content])\n",
        "            id += 1\n",
        "\n",
        "          elif file_path.endswith('.ipynb'):\n",
        "            with open(file_path, 'r', encoding='utf-8') as file:\n",
        "              notebook_content = nbformat.read(file, as_version=4)\n",
        "\n",
        "            file_content = ''\n",
        "            for cell in notebook_content['cells']:\n",
        "              if cell.cell_type == 'markdown' or cell.cell_type == 'code':\n",
        "                file_content += cell.source\n",
        "                file_content += \"\\n\\n\"\n",
        "            rows.append([id, rel_path, file_content])\n",
        "            id += 1\n",
        "\n",
        "  csv_file = os.path.join(temp_dir, \"output.csv\")\n",
        "\n",
        "  with open(csv_file, mode=\"w\", newline=\"\") as file:\n",
        "      writer = csv.writer(file)\n",
        "      for row in rows:\n",
        "          writer.writerow(row)\n",
        "\n",
        "  cursor.query('''\n",
        "  DROP TABLE IF EXISTS repository\n",
        "  ''').df()\n",
        "\n",
        "  cursor.query('''\n",
        "  CREATE TABLE repository\n",
        "  (id INTEGER,\n",
        "  name TEXT(150),\n",
        "  text TEXT(150000))\n",
        "  ''').df()\n",
        "\n",
        "  cursor.query(f'''\n",
        "  LOAD CSV '{csv_file}' INTO repository\n",
        "  ''').df()\n",
        "\n",
        "  shutil.rmtree(temp_dir)"
      ],
      "metadata": {
        "id": "NbO4NC0LKjPL"
      },
      "execution_count": 11,
      "outputs": []
    },
    {
      "cell_type": "code",
      "source": [
        "load_repository(cursor, \"https://github.com/microsoft/AI-For-Beginners.git\")"
      ],
      "metadata": {
        "id": "XRuSU-WmhFEY"
      },
      "execution_count": 5,
      "outputs": []
    },
    {
      "cell_type": "code",
      "source": [
        "response = cursor.query('''\n",
        "  SELECT ChatGPT('What is this lesson about?', text)\n",
        "  FROM repository LIMIT 10\n",
        "''').df()"
      ],
      "metadata": {
        "id": "X_vXXr19foAy"
      },
      "execution_count": 6,
      "outputs": []
    },
    {
      "cell_type": "code",
      "source": [
        "print(response)"
      ],
      "metadata": {
        "colab": {
          "base_uri": "https://localhost:8080/"
        },
        "id": "QCPsU11jjzoG",
        "outputId": "6e094615-f623-46ee-c796-eefb80533371"
      },
      "execution_count": 7,
      "outputs": [
        {
          "output_type": "stream",
          "name": "stdout",
          "text": [
            "                                    chatgpt.response\n",
            "0  This lesson is about Genetic Algorithms (GA), ...\n",
            "1  This lesson is about solving Diophantine equat...\n",
            "2  This lesson is about using Q-Learning to teach...\n",
            "3  This lesson is about training a reinforcement ...\n",
            "4  This lesson is about training a reinforcement ...\n",
            "5  This lesson is about implementing the REINFORC...\n",
            "6  This lesson is about training a reinforcement ...\n",
            "7  This lesson is about text classification using...\n",
            "8  This lesson is about text classification using...\n",
            "9  This lesson is about experimenting with OpenAI...\n"
          ]
        }
      ]
    },
    {
      "cell_type": "code",
      "source": [
        "response2 = cursor.query('''\n",
        "  SELECT ChatGPT('What is this lesson about?', text)\n",
        "  FROM repository WHERE name = 'lessons/5-NLP/16-RNN/RNNPyTorch.ipynb'\n",
        "''').df()"
      ],
      "metadata": {
        "id": "tuFJOL77mYM-"
      },
      "execution_count": 8,
      "outputs": []
    },
    {
      "cell_type": "code",
      "source": [
        "print(response2[\"chatgpt.response\"][0])"
      ],
      "metadata": {
        "colab": {
          "base_uri": "https://localhost:8080/"
        },
        "id": "UN45kwxsme6l",
        "outputId": "7b2c1691-5f81-486c-9049-76a94c42c7b6"
      },
      "execution_count": 9,
      "outputs": [
        {
          "output_type": "stream",
          "name": "stdout",
          "text": [
            "This lesson is about recurrent neural networks (RNNs) and their applications in natural language processing tasks. It covers the basics of RNNs, including how they capture the order of words in a sequence, and introduces two popular types of RNN architectures: simple RNN and Long Short Term Memory (LSTM). The lesson also discusses the challenges of training RNNs and introduces the concept of packed sequences to handle variable-length input. Additionally, it explores bidirectional and multilayer RNNs and mentions that RNNs can be used for tasks beyond sequence classification, such as text generation and machine translation.\n"
          ]
        }
      ]
    }
  ]
}